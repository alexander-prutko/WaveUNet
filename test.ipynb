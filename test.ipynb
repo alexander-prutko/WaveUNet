{
 "cells": [
  {
   "cell_type": "code",
   "execution_count": 1,
   "metadata": {},
   "outputs": [],
   "source": [
    "import numpy as np\n",
    "import torch\n",
    "import torch.nn as nn\n",
    "import torch.optim as optim\n",
    "from torch.utils import data"
   ]
  },
  {
   "cell_type": "code",
   "execution_count": 2,
   "metadata": {},
   "outputs": [],
   "source": [
    "from modelStruct.sunet import Sunet"
   ]
  },
  {
   "cell_type": "code",
   "execution_count": 3,
   "metadata": {},
   "outputs": [],
   "source": [
    "from torchsummary import summary"
   ]
  },
  {
   "cell_type": "code",
   "execution_count": 4,
   "metadata": {},
   "outputs": [
    {
     "name": "stdout",
     "output_type": "stream",
     "text": [
      "sunet\n"
     ]
    }
   ],
   "source": [
    "model = Sunet()"
   ]
  },
  {
   "cell_type": "code",
   "execution_count": 5,
   "metadata": {},
   "outputs": [
    {
     "name": "stdout",
     "output_type": "stream",
     "text": [
      "torch.Size([2, 24, 640, 640])\n",
      "torch.Size([2, 24, 640, 640])\n",
      "torch.Size([2, 48, 320, 320])\n",
      "torch.Size([2, 48, 320, 320])\n",
      "torch.Size([2, 72, 160, 160])\n",
      "torch.Size([2, 72, 160, 160])\n",
      "torch.Size([2, 96, 80, 80])\n",
      "torch.Size([2, 96, 80, 80])\n",
      "torch.Size([2, 120, 40, 40])\n",
      "torch.Size([2, 120, 40, 40])\n",
      "torch.Size([2, 144, 20, 20])\n",
      "torch.Size([2, 144, 20, 20])\n",
      "torch.Size([2, 168, 10, 10])\n",
      "torch.Size([2, 168, 10, 10])\n",
      "=============\n",
      "torch.Size([2, 168, 10, 10])\n",
      "torch.Size([2, 168, 10, 10])\n",
      "torch.Size([2, 168, 20, 20])\n",
      "torch.Size([2, 144, 20, 20])\n",
      "torch.Size([2, 144, 40, 40])\n",
      "torch.Size([2, 120, 40, 40])\n"
     ]
    },
    {
     "name": "stderr",
     "output_type": "stream",
     "text": [
      "C:\\Users\\11007098\\Documents\\py\\WinPython\\python-3.6.5.amd64\\lib\\site-packages\\torch\\nn\\functional.py:1890: UserWarning: nn.functional.upsample is deprecated. Use nn.functional.interpolate instead.\n",
      "  warnings.warn(\"nn.functional.upsample is deprecated. Use nn.functional.interpolate instead.\")\n",
      "C:\\Users\\11007098\\Documents\\py\\WinPython\\python-3.6.5.amd64\\lib\\site-packages\\torch\\nn\\functional.py:1961: UserWarning: Default upsampling behavior when mode=bilinear is changed to align_corners=False since 0.4.0. Please specify align_corners=True if the old behavior is desired. See the documentation of nn.Upsample for details.\n",
      "  \"See the documentation of nn.Upsample for details.\".format(mode))\n"
     ]
    },
    {
     "name": "stdout",
     "output_type": "stream",
     "text": [
      "torch.Size([2, 120, 80, 80])\n",
      "torch.Size([2, 96, 80, 80])\n",
      "torch.Size([2, 96, 160, 160])\n",
      "torch.Size([2, 72, 160, 160])\n",
      "torch.Size([2, 72, 320, 320])\n",
      "torch.Size([2, 48, 320, 320])\n",
      "torch.Size([2, 48, 640, 640])\n",
      "torch.Size([2, 24, 640, 640])\n",
      "----------------------------------------------------------------\n",
      "        Layer (type)               Output Shape         Param #\n",
      "================================================================\n",
      "            Conv2d-1          [1, 24, 640, 640]             240\n",
      "       BatchNorm2d-2          [1, 24, 640, 640]              48\n",
      "            Conv2d-3          [1, 48, 320, 320]          10,416\n",
      "       BatchNorm2d-4          [1, 48, 320, 320]              96\n",
      "            Conv2d-5          [1, 72, 160, 160]          31,176\n",
      "       BatchNorm2d-6          [1, 72, 160, 160]             144\n",
      "            Conv2d-7            [1, 96, 80, 80]          62,304\n",
      "       BatchNorm2d-8            [1, 96, 80, 80]             192\n",
      "            Conv2d-9           [1, 120, 40, 40]         103,800\n",
      "      BatchNorm2d-10           [1, 120, 40, 40]             240\n",
      "           Conv2d-11           [1, 144, 20, 20]         155,664\n",
      "      BatchNorm2d-12           [1, 144, 20, 20]             288\n",
      "           Conv2d-13           [1, 168, 10, 10]         217,896\n",
      "      BatchNorm2d-14           [1, 168, 10, 10]             336\n",
      "           Conv2d-15             [1, 168, 5, 5]         254,184\n",
      "      BatchNorm2d-16             [1, 168, 5, 5]             336\n",
      "        LeakyReLU-17             [1, 168, 5, 5]               0\n",
      "           Conv2d-18           [1, 168, 10, 10]         508,200\n",
      "      BatchNorm2d-19           [1, 168, 10, 10]             336\n",
      "           Conv2d-20           [1, 144, 20, 20]         404,496\n",
      "      BatchNorm2d-21           [1, 144, 20, 20]             288\n",
      "           Conv2d-22           [1, 120, 40, 40]         285,240\n",
      "      BatchNorm2d-23           [1, 120, 40, 40]             240\n",
      "           Conv2d-24            [1, 96, 80, 80]         186,720\n",
      "      BatchNorm2d-25            [1, 96, 80, 80]             192\n",
      "           Conv2d-26          [1, 72, 160, 160]         108,936\n",
      "      BatchNorm2d-27          [1, 72, 160, 160]             144\n",
      "           Conv2d-28          [1, 48, 320, 320]          51,888\n",
      "      BatchNorm2d-29          [1, 48, 320, 320]              96\n",
      "           Conv2d-30          [1, 24, 640, 640]          15,576\n",
      "      BatchNorm2d-31          [1, 24, 640, 640]              48\n",
      "           Conv2d-32           [1, 1, 640, 640]              26\n",
      "             Tanh-33           [1, 1, 640, 640]               0\n",
      "================================================================\n",
      "Total params: 2,399,786\n",
      "Trainable params: 2,399,786\n",
      "Non-trainable params: 0\n",
      "----------------------------------------------------------------\n",
      "Input size (MB): 1.56\n",
      "Forward/backward pass size (MB): 539.48\n",
      "Params size (MB): 9.15\n",
      "Estimated Total Size (MB): 550.19\n",
      "----------------------------------------------------------------\n"
     ]
    }
   ],
   "source": [
    "summary(model, input_size=(1, 640, 640), batch_size=1, device=\"cpu\")"
   ]
  },
  {
   "cell_type": "code",
   "execution_count": 6,
   "metadata": {},
   "outputs": [
    {
     "data": {
      "text/plain": [
       "Conv2d(1, 24, kernel_size=(3, 3), stride=(1, 1), padding=(1, 1))"
      ]
     },
     "execution_count": 6,
     "metadata": {},
     "output_type": "execute_result"
    }
   ],
   "source": [
    "model.encoder[0]"
   ]
  },
  {
   "cell_type": "code",
   "execution_count": 7,
   "metadata": {},
   "outputs": [
    {
     "data": {
      "text/plain": [
       "<function torchsummary.torchsummary.summary>"
      ]
     },
     "execution_count": 7,
     "metadata": {},
     "output_type": "execute_result"
    }
   ],
   "source": [
    "summary"
   ]
  },
  {
   "cell_type": "code",
   "execution_count": 8,
   "metadata": {},
   "outputs": [
    {
     "data": {
      "text/plain": [
       "Sunet(\n",
       "  (encoder): ModuleList(\n",
       "    (0): Conv2d(1, 24, kernel_size=(3, 3), stride=(1, 1), padding=(1, 1))\n",
       "    (1): Conv2d(24, 48, kernel_size=(3, 3), stride=(1, 1), padding=(1, 1))\n",
       "    (2): Conv2d(48, 72, kernel_size=(3, 3), stride=(1, 1), padding=(1, 1))\n",
       "    (3): Conv2d(72, 96, kernel_size=(3, 3), stride=(1, 1), padding=(1, 1))\n",
       "    (4): Conv2d(96, 120, kernel_size=(3, 3), stride=(1, 1), padding=(1, 1))\n",
       "    (5): Conv2d(120, 144, kernel_size=(3, 3), stride=(1, 1), padding=(1, 1))\n",
       "    (6): Conv2d(144, 168, kernel_size=(3, 3), stride=(1, 1), padding=(1, 1))\n",
       "  )\n",
       "  (decoder): ModuleList(\n",
       "    (0): Conv2d(336, 168, kernel_size=(3, 3), stride=(1, 1), padding=(1, 1))\n",
       "    (1): Conv2d(312, 144, kernel_size=(3, 3), stride=(1, 1), padding=(1, 1))\n",
       "    (2): Conv2d(264, 120, kernel_size=(3, 3), stride=(1, 1), padding=(1, 1))\n",
       "    (3): Conv2d(216, 96, kernel_size=(3, 3), stride=(1, 1), padding=(1, 1))\n",
       "    (4): Conv2d(168, 72, kernel_size=(3, 3), stride=(1, 1), padding=(1, 1))\n",
       "    (5): Conv2d(120, 48, kernel_size=(3, 3), stride=(1, 1), padding=(1, 1))\n",
       "    (6): Conv2d(72, 24, kernel_size=(3, 3), stride=(1, 1), padding=(1, 1))\n",
       "  )\n",
       "  (ebatch): ModuleList(\n",
       "    (0): BatchNorm2d(24, eps=1e-05, momentum=0.1, affine=True, track_running_stats=True)\n",
       "    (1): BatchNorm2d(48, eps=1e-05, momentum=0.1, affine=True, track_running_stats=True)\n",
       "    (2): BatchNorm2d(72, eps=1e-05, momentum=0.1, affine=True, track_running_stats=True)\n",
       "    (3): BatchNorm2d(96, eps=1e-05, momentum=0.1, affine=True, track_running_stats=True)\n",
       "    (4): BatchNorm2d(120, eps=1e-05, momentum=0.1, affine=True, track_running_stats=True)\n",
       "    (5): BatchNorm2d(144, eps=1e-05, momentum=0.1, affine=True, track_running_stats=True)\n",
       "    (6): BatchNorm2d(168, eps=1e-05, momentum=0.1, affine=True, track_running_stats=True)\n",
       "  )\n",
       "  (dbatch): ModuleList(\n",
       "    (0): BatchNorm2d(168, eps=1e-05, momentum=0.1, affine=True, track_running_stats=True)\n",
       "    (1): BatchNorm2d(144, eps=1e-05, momentum=0.1, affine=True, track_running_stats=True)\n",
       "    (2): BatchNorm2d(120, eps=1e-05, momentum=0.1, affine=True, track_running_stats=True)\n",
       "    (3): BatchNorm2d(96, eps=1e-05, momentum=0.1, affine=True, track_running_stats=True)\n",
       "    (4): BatchNorm2d(72, eps=1e-05, momentum=0.1, affine=True, track_running_stats=True)\n",
       "    (5): BatchNorm2d(48, eps=1e-05, momentum=0.1, affine=True, track_running_stats=True)\n",
       "    (6): BatchNorm2d(24, eps=1e-05, momentum=0.1, affine=True, track_running_stats=True)\n",
       "  )\n",
       "  (middle): Sequential(\n",
       "    (0): Conv2d(168, 168, kernel_size=(3, 3), stride=(1, 1), padding=(1, 1))\n",
       "    (1): BatchNorm2d(168, eps=1e-05, momentum=0.1, affine=True, track_running_stats=True)\n",
       "    (2): LeakyReLU(negative_slope=0.1)\n",
       "  )\n",
       "  (out): Sequential(\n",
       "    (0): Conv2d(25, 1, kernel_size=(1, 1), stride=(1, 1))\n",
       "    (1): Tanh()\n",
       "  )\n",
       ")"
      ]
     },
     "execution_count": 8,
     "metadata": {},
     "output_type": "execute_result"
    }
   ],
   "source": [
    "model"
   ]
  },
  {
   "cell_type": "code",
   "execution_count": 9,
   "metadata": {},
   "outputs": [],
   "source": [
    "import torch\n",
    "import torch.nn.functional as F\n",
    "\n",
    "class CustomPad(torch.nn.Module):\n",
    "  def __init__(self, padding):\n",
    "    self.padding = padding\n",
    "  def forward(self, x):\n",
    "    return F.pad(x. self.padding, mode='replicate')"
   ]
  },
  {
   "cell_type": "code",
   "execution_count": 10,
   "metadata": {},
   "outputs": [],
   "source": [
    "arr = np.random.randn(2,2,2)"
   ]
  },
  {
   "cell_type": "code",
   "execution_count": 11,
   "metadata": {},
   "outputs": [],
   "source": [
    "ten = torch.Tensor(arr)"
   ]
  },
  {
   "cell_type": "code",
   "execution_count": 12,
   "metadata": {},
   "outputs": [
    {
     "data": {
      "text/plain": [
       "torch.Size([2, 2, 2])"
      ]
     },
     "execution_count": 12,
     "metadata": {},
     "output_type": "execute_result"
    }
   ],
   "source": [
    "ten.size()"
   ]
  },
  {
   "cell_type": "code",
   "execution_count": 13,
   "metadata": {},
   "outputs": [
    {
     "data": {
      "text/plain": [
       "torch.Size([2, 2, 4])"
      ]
     },
     "execution_count": 13,
     "metadata": {},
     "output_type": "execute_result"
    }
   ],
   "source": [
    "F.pad(ten, (1,1), mode='replicate').size()"
   ]
  },
  {
   "cell_type": "code",
   "execution_count": null,
   "metadata": {},
   "outputs": [],
   "source": []
  }
 ],
 "metadata": {
  "kernelspec": {
   "display_name": "Python 3",
   "language": "python",
   "name": "python3"
  },
  "language_info": {
   "codemirror_mode": {
    "name": "ipython",
    "version": 3
   },
   "file_extension": ".py",
   "mimetype": "text/x-python",
   "name": "python",
   "nbconvert_exporter": "python",
   "pygments_lexer": "ipython3",
   "version": "3.6.5"
  }
 },
 "nbformat": 4,
 "nbformat_minor": 2
}
